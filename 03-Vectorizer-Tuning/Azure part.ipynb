{
 "cells": [
  {
   "cell_type": "code",
   "execution_count": 1,
   "id": "6d0118a8",
   "metadata": {},
   "outputs": [
    {
     "data": {
      "text/html": [
       "<div>\n",
       "<style scoped>\n",
       "    .dataframe tbody tr th:only-of-type {\n",
       "        vertical-align: middle;\n",
       "    }\n",
       "\n",
       "    .dataframe tbody tr th {\n",
       "        vertical-align: top;\n",
       "    }\n",
       "\n",
       "    .dataframe thead th {\n",
       "        text-align: right;\n",
       "    }\n",
       "</style>\n",
       "<table border=\"1\" class=\"dataframe\">\n",
       "  <thead>\n",
       "    <tr style=\"text-align: right;\">\n",
       "      <th></th>\n",
       "      <th>target</th>\n",
       "      <th>reviews</th>\n",
       "    </tr>\n",
       "  </thead>\n",
       "  <tbody>\n",
       "    <tr>\n",
       "      <th>0</th>\n",
       "      <td>neg</td>\n",
       "      <td>plot : two teen couples go to a church party ,...</td>\n",
       "    </tr>\n",
       "    <tr>\n",
       "      <th>1</th>\n",
       "      <td>neg</td>\n",
       "      <td>the happy bastard's quick movie review \\ndamn ...</td>\n",
       "    </tr>\n",
       "    <tr>\n",
       "      <th>2</th>\n",
       "      <td>neg</td>\n",
       "      <td>it is movies like these that make a jaded movi...</td>\n",
       "    </tr>\n",
       "    <tr>\n",
       "      <th>3</th>\n",
       "      <td>neg</td>\n",
       "      <td>\" quest for camelot \" is warner bros . ' firs...</td>\n",
       "    </tr>\n",
       "    <tr>\n",
       "      <th>4</th>\n",
       "      <td>neg</td>\n",
       "      <td>synopsis : a mentally unstable man undergoing ...</td>\n",
       "    </tr>\n",
       "  </tbody>\n",
       "</table>\n",
       "</div>"
      ],
      "text/plain": [
       "  target                                            reviews\n",
       "0    neg  plot : two teen couples go to a church party ,...\n",
       "1    neg  the happy bastard's quick movie review \\ndamn ...\n",
       "2    neg  it is movies like these that make a jaded movi...\n",
       "3    neg   \" quest for camelot \" is warner bros . ' firs...\n",
       "4    neg  synopsis : a mentally unstable man undergoing ..."
      ]
     },
     "execution_count": 1,
     "metadata": {},
     "output_type": "execute_result"
    }
   ],
   "source": [
    "import os\n",
    "import pandas as pd\n",
    "\n",
    "data = pd.read_pickle(\"reviews_3\")\n",
    "\n",
    "data.head()"
   ]
  },
  {
   "cell_type": "code",
   "execution_count": 2,
   "id": "07d5ae77",
   "metadata": {},
   "outputs": [
    {
     "name": "stdout",
     "output_type": "stream",
     "text": [
      "Ready to use cognitive services at https://azure-ml-ai900-laurence-31012023.cognitiveservices.azure.com/ using key 7cc2541c81754650b4ccf6c863069ff0\n"
     ]
    }
   ],
   "source": [
    "cog_key = '7cc2541c81754650b4ccf6c863069ff0'\n",
    "cog_endpoint = 'https://azure-ml-ai900-laurence-31012023.cognitiveservices.azure.com/'\n",
    "\n",
    "print('Ready to use cognitive services at {} using key {}'.format(cog_endpoint, cog_key))"
   ]
  },
  {
   "cell_type": "code",
   "execution_count": 3,
   "id": "a3a1ae5b",
   "metadata": {},
   "outputs": [],
   "source": [
    "from azure.cognitiveservices.language.textanalytics import TextAnalyticsClient\n",
    "from msrest.authentication import CognitiveServicesCredentials"
   ]
  },
  {
   "cell_type": "code",
   "execution_count": 5,
   "id": "f9600708",
   "metadata": {},
   "outputs": [
    {
     "ename": "SerializationError",
     "evalue": "('Unable to build a model: (\\'Unable to deserialize response data. Data:      target                                            reviews\\\\n0       neg  plot : two teen couples go to a church party ,...\\\\n1       neg  the happy bastard\\\\\\'s quick movie review \\\\\\\\ndamn ...\\\\n2       neg  it is movies like these that make a jaded movi...\\\\n3       neg   \" quest for camelot \" is warner bros . \\\\\\' firs...\\\\n4       neg  synopsis : a mentally unstable man undergoing ...\\\\n...     ...                                                ...\\\\n1995    pos  wow ! what a movie . \\\\\\\\nit\\\\\\'s everything a movie...\\\\n1996    pos  richard gere can be a commanding actor , but h...\\\\n1997    pos  glory--starring matthew broderick , denzel was...\\\\n1998    pos  steven spielberg\\\\\\'s second epic film on world w...\\\\n1999    pos  truman ( \" true-man \" ) burbank is the perfect...\\\\n\\\\n[2000 rows x 2 columns], [LanguageInput], DeserializationError: Cannot deserialize as [LanguageInput] an object of type <class \\\\\\'pandas.core.frame.DataFrame\\\\\\'>\\', DeserializationError(\"Cannot deserialize as [LanguageInput] an object of type <class \\'pandas.core.frame.DataFrame\\'>\")), DeserializationError: (\\'Unable to deserialize response data. Data:      target                                            reviews\\\\n0       neg  plot : two teen couples go to a church party ,...\\\\n1       neg  the happy bastard\\\\\\'s quick movie review \\\\\\\\ndamn ...\\\\n2       neg  it is movies like these that make a jaded movi...\\\\n3       neg   \" quest for camelot \" is warner bros . \\\\\\' firs...\\\\n4       neg  synopsis : a mentally unstable man undergoing ...\\\\n...     ...                                                ...\\\\n1995    pos  wow ! what a movie . \\\\\\\\nit\\\\\\'s everything a movie...\\\\n1996    pos  richard gere can be a commanding actor , but h...\\\\n1997    pos  glory--starring matthew broderick , denzel was...\\\\n1998    pos  steven spielberg\\\\\\'s second epic film on world w...\\\\n1999    pos  truman ( \" true-man \" ) burbank is the perfect...\\\\n\\\\n[2000 rows x 2 columns], [LanguageInput], DeserializationError: Cannot deserialize as [LanguageInput] an object of type <class \\\\\\'pandas.core.frame.DataFrame\\\\\\'>\\', DeserializationError(\"Cannot deserialize as [LanguageInput] an object of type <class \\'pandas.core.frame.DataFrame\\'>\"))', DeserializationError('Unable to deserialize response data. Data:      target                                            reviews\\n0       neg  plot : two teen couples go to a church party ,...\\n1       neg  the happy bastard\\'s quick movie review \\\\ndamn ...\\n2       neg  it is movies like these that make a jaded movi...\\n3       neg   \" quest for camelot \" is warner bros . \\' firs...\\n4       neg  synopsis : a mentally unstable man undergoing ...\\n...     ...                                                ...\\n1995    pos  wow ! what a movie . \\\\nit\\'s everything a movie...\\n1996    pos  richard gere can be a commanding actor , but h...\\n1997    pos  glory--starring matthew broderick , denzel was...\\n1998    pos  steven spielberg\\'s second epic film on world w...\\n1999    pos  truman ( \" true-man \" ) burbank is the perfect...\\n\\n[2000 rows x 2 columns], [LanguageInput], DeserializationError: Cannot deserialize as [LanguageInput] an object of type <class \\'pandas.core.frame.DataFrame\\'>', DeserializationError(\"Cannot deserialize as [LanguageInput] an object of type <class 'pandas.core.frame.DataFrame'>\")))",
     "output_type": "error",
     "traceback": [
      "\u001b[1;31m---------------------------------------------------------------------------\u001b[0m",
      "\u001b[1;31mDeserializationError\u001b[0m                      Traceback (most recent call last)",
      "File \u001b[1;32m~\\anaconda3\\lib\\site-packages\\msrest\\serialization.py:1626\u001b[0m, in \u001b[0;36mDeserializer.deserialize_data\u001b[1;34m(self, data, data_type)\u001b[0m\n\u001b[0;32m   1625\u001b[0m \u001b[38;5;28;01mif\u001b[39;00m iter_type \u001b[38;5;129;01min\u001b[39;00m \u001b[38;5;28mself\u001b[39m\u001b[38;5;241m.\u001b[39mdeserialize_type:\n\u001b[1;32m-> 1626\u001b[0m     \u001b[38;5;28;01mreturn\u001b[39;00m \u001b[38;5;28;43mself\u001b[39;49m\u001b[38;5;241;43m.\u001b[39;49m\u001b[43mdeserialize_type\u001b[49m\u001b[43m[\u001b[49m\u001b[43miter_type\u001b[49m\u001b[43m]\u001b[49m\u001b[43m(\u001b[49m\u001b[43mdata\u001b[49m\u001b[43m,\u001b[49m\u001b[43m \u001b[49m\u001b[43mdata_type\u001b[49m\u001b[43m[\u001b[49m\u001b[38;5;241;43m1\u001b[39;49m\u001b[43m:\u001b[49m\u001b[38;5;241;43m-\u001b[39;49m\u001b[38;5;241;43m1\u001b[39;49m\u001b[43m]\u001b[49m\u001b[43m)\u001b[49m\n\u001b[0;32m   1628\u001b[0m obj_type \u001b[38;5;241m=\u001b[39m \u001b[38;5;28mself\u001b[39m\u001b[38;5;241m.\u001b[39mdependencies[data_type]\n",
      "File \u001b[1;32m~\\anaconda3\\lib\\site-packages\\msrest\\serialization.py:1653\u001b[0m, in \u001b[0;36mDeserializer.deserialize_iter\u001b[1;34m(self, attr, iter_type)\u001b[0m\n\u001b[0;32m   1652\u001b[0m \u001b[38;5;28;01mif\u001b[39;00m \u001b[38;5;129;01mnot\u001b[39;00m \u001b[38;5;28misinstance\u001b[39m(attr, (\u001b[38;5;28mlist\u001b[39m, \u001b[38;5;28mset\u001b[39m)):\n\u001b[1;32m-> 1653\u001b[0m     \u001b[38;5;28;01mraise\u001b[39;00m DeserializationError(\u001b[38;5;124m\"\u001b[39m\u001b[38;5;124mCannot deserialize as [\u001b[39m\u001b[38;5;132;01m{}\u001b[39;00m\u001b[38;5;124m] an object of type \u001b[39m\u001b[38;5;132;01m{}\u001b[39;00m\u001b[38;5;124m\"\u001b[39m\u001b[38;5;241m.\u001b[39mformat(\n\u001b[0;32m   1654\u001b[0m         iter_type,\n\u001b[0;32m   1655\u001b[0m         \u001b[38;5;28mtype\u001b[39m(attr)\n\u001b[0;32m   1656\u001b[0m     ))\n\u001b[0;32m   1657\u001b[0m \u001b[38;5;28;01mreturn\u001b[39;00m [\u001b[38;5;28mself\u001b[39m\u001b[38;5;241m.\u001b[39mdeserialize_data(a, iter_type) \u001b[38;5;28;01mfor\u001b[39;00m a \u001b[38;5;129;01min\u001b[39;00m attr]\n",
      "\u001b[1;31mDeserializationError\u001b[0m: Cannot deserialize as [LanguageInput] an object of type <class 'pandas.core.frame.DataFrame'>",
      "\nDuring handling of the above exception, another exception occurred:\n",
      "\u001b[1;31mDeserializationError\u001b[0m                      Traceback (most recent call last)",
      "File \u001b[1;32m~\\anaconda3\\lib\\site-packages\\msrest\\serialization.py:622\u001b[0m, in \u001b[0;36mSerializer.body\u001b[1;34m(self, data, data_type, **kwargs)\u001b[0m\n\u001b[0;32m    617\u001b[0m         deserializer\u001b[38;5;241m.\u001b[39mkey_extractors \u001b[38;5;241m=\u001b[39m [\n\u001b[0;32m    618\u001b[0m             rest_key_case_insensitive_extractor,\n\u001b[0;32m    619\u001b[0m             attribute_key_case_insensitive_extractor,\n\u001b[0;32m    620\u001b[0m             last_rest_key_case_insensitive_extractor\n\u001b[0;32m    621\u001b[0m         ]\n\u001b[1;32m--> 622\u001b[0m     data \u001b[38;5;241m=\u001b[39m \u001b[43mdeserializer\u001b[49m\u001b[38;5;241;43m.\u001b[39;49m\u001b[43m_deserialize\u001b[49m\u001b[43m(\u001b[49m\u001b[43mdata_type\u001b[49m\u001b[43m,\u001b[49m\u001b[43m \u001b[49m\u001b[43mdata\u001b[49m\u001b[43m)\u001b[49m\n\u001b[0;32m    623\u001b[0m \u001b[38;5;28;01mexcept\u001b[39;00m DeserializationError \u001b[38;5;28;01mas\u001b[39;00m err:\n",
      "File \u001b[1;32m~\\anaconda3\\lib\\site-packages\\msrest\\serialization.py:1406\u001b[0m, in \u001b[0;36mDeserializer._deserialize\u001b[1;34m(self, target_obj, data)\u001b[0m\n\u001b[0;32m   1402\u001b[0m         \u001b[38;5;28;01mcontinue\u001b[39;00m\n\u001b[0;32m   1403\u001b[0m     \u001b[38;5;28msetattr\u001b[39m(\n\u001b[0;32m   1404\u001b[0m         data,\n\u001b[0;32m   1405\u001b[0m         attr,\n\u001b[1;32m-> 1406\u001b[0m         \u001b[38;5;28;43mself\u001b[39;49m\u001b[38;5;241;43m.\u001b[39;49m\u001b[43m_deserialize\u001b[49m\u001b[43m(\u001b[49m\u001b[43mlocal_type\u001b[49m\u001b[43m,\u001b[49m\u001b[43m \u001b[49m\u001b[43mvalue\u001b[49m\u001b[43m)\u001b[49m\n\u001b[0;32m   1407\u001b[0m     )\n\u001b[0;32m   1408\u001b[0m \u001b[38;5;28;01mreturn\u001b[39;00m data\n",
      "File \u001b[1;32m~\\anaconda3\\lib\\site-packages\\msrest\\serialization.py:1415\u001b[0m, in \u001b[0;36mDeserializer._deserialize\u001b[1;34m(self, target_obj, data)\u001b[0m\n\u001b[0;32m   1414\u001b[0m \u001b[38;5;28;01mif\u001b[39;00m \u001b[38;5;28misinstance\u001b[39m(response, basestring):\n\u001b[1;32m-> 1415\u001b[0m     \u001b[38;5;28;01mreturn\u001b[39;00m \u001b[38;5;28;43mself\u001b[39;49m\u001b[38;5;241;43m.\u001b[39;49m\u001b[43mdeserialize_data\u001b[49m\u001b[43m(\u001b[49m\u001b[43mdata\u001b[49m\u001b[43m,\u001b[49m\u001b[43m \u001b[49m\u001b[43mresponse\u001b[49m\u001b[43m)\u001b[49m\n\u001b[0;32m   1416\u001b[0m \u001b[38;5;28;01melif\u001b[39;00m \u001b[38;5;28misinstance\u001b[39m(response, \u001b[38;5;28mtype\u001b[39m) \u001b[38;5;129;01mand\u001b[39;00m \u001b[38;5;28missubclass\u001b[39m(response, Enum):\n",
      "File \u001b[1;32m~\\anaconda3\\lib\\site-packages\\msrest\\serialization.py:1637\u001b[0m, in \u001b[0;36mDeserializer.deserialize_data\u001b[1;34m(self, data, data_type)\u001b[0m\n\u001b[0;32m   1636\u001b[0m     msg \u001b[38;5;241m+\u001b[39m\u001b[38;5;241m=\u001b[39m \u001b[38;5;124m\"\u001b[39m\u001b[38;5;124m Data: \u001b[39m\u001b[38;5;132;01m{}\u001b[39;00m\u001b[38;5;124m, \u001b[39m\u001b[38;5;132;01m{}\u001b[39;00m\u001b[38;5;124m\"\u001b[39m\u001b[38;5;241m.\u001b[39mformat(data, data_type)\n\u001b[1;32m-> 1637\u001b[0m     \u001b[43mraise_with_traceback\u001b[49m\u001b[43m(\u001b[49m\u001b[43mDeserializationError\u001b[49m\u001b[43m,\u001b[49m\u001b[43m \u001b[49m\u001b[43mmsg\u001b[49m\u001b[43m,\u001b[49m\u001b[43m \u001b[49m\u001b[43merr\u001b[49m\u001b[43m)\u001b[49m\n\u001b[0;32m   1638\u001b[0m \u001b[38;5;28;01melse\u001b[39;00m:\n",
      "File \u001b[1;32m~\\anaconda3\\lib\\site-packages\\msrest\\exceptions.py:51\u001b[0m, in \u001b[0;36mraise_with_traceback\u001b[1;34m(exception, message, *args, **kwargs)\u001b[0m\n\u001b[0;32m     50\u001b[0m \u001b[38;5;28;01mtry\u001b[39;00m:\n\u001b[1;32m---> 51\u001b[0m     \u001b[38;5;28;01mraise\u001b[39;00m error\u001b[38;5;241m.\u001b[39mwith_traceback(exc_traceback)\n\u001b[0;32m     52\u001b[0m \u001b[38;5;28;01mexcept\u001b[39;00m \u001b[38;5;167;01mAttributeError\u001b[39;00m:\n",
      "File \u001b[1;32m~\\anaconda3\\lib\\site-packages\\msrest\\serialization.py:1626\u001b[0m, in \u001b[0;36mDeserializer.deserialize_data\u001b[1;34m(self, data, data_type)\u001b[0m\n\u001b[0;32m   1625\u001b[0m \u001b[38;5;28;01mif\u001b[39;00m iter_type \u001b[38;5;129;01min\u001b[39;00m \u001b[38;5;28mself\u001b[39m\u001b[38;5;241m.\u001b[39mdeserialize_type:\n\u001b[1;32m-> 1626\u001b[0m     \u001b[38;5;28;01mreturn\u001b[39;00m \u001b[38;5;28;43mself\u001b[39;49m\u001b[38;5;241;43m.\u001b[39;49m\u001b[43mdeserialize_type\u001b[49m\u001b[43m[\u001b[49m\u001b[43miter_type\u001b[49m\u001b[43m]\u001b[49m\u001b[43m(\u001b[49m\u001b[43mdata\u001b[49m\u001b[43m,\u001b[49m\u001b[43m \u001b[49m\u001b[43mdata_type\u001b[49m\u001b[43m[\u001b[49m\u001b[38;5;241;43m1\u001b[39;49m\u001b[43m:\u001b[49m\u001b[38;5;241;43m-\u001b[39;49m\u001b[38;5;241;43m1\u001b[39;49m\u001b[43m]\u001b[49m\u001b[43m)\u001b[49m\n\u001b[0;32m   1628\u001b[0m obj_type \u001b[38;5;241m=\u001b[39m \u001b[38;5;28mself\u001b[39m\u001b[38;5;241m.\u001b[39mdependencies[data_type]\n",
      "File \u001b[1;32m~\\anaconda3\\lib\\site-packages\\msrest\\serialization.py:1653\u001b[0m, in \u001b[0;36mDeserializer.deserialize_iter\u001b[1;34m(self, attr, iter_type)\u001b[0m\n\u001b[0;32m   1652\u001b[0m \u001b[38;5;28;01mif\u001b[39;00m \u001b[38;5;129;01mnot\u001b[39;00m \u001b[38;5;28misinstance\u001b[39m(attr, (\u001b[38;5;28mlist\u001b[39m, \u001b[38;5;28mset\u001b[39m)):\n\u001b[1;32m-> 1653\u001b[0m     \u001b[38;5;28;01mraise\u001b[39;00m DeserializationError(\u001b[38;5;124m\"\u001b[39m\u001b[38;5;124mCannot deserialize as [\u001b[39m\u001b[38;5;132;01m{}\u001b[39;00m\u001b[38;5;124m] an object of type \u001b[39m\u001b[38;5;132;01m{}\u001b[39;00m\u001b[38;5;124m\"\u001b[39m\u001b[38;5;241m.\u001b[39mformat(\n\u001b[0;32m   1654\u001b[0m         iter_type,\n\u001b[0;32m   1655\u001b[0m         \u001b[38;5;28mtype\u001b[39m(attr)\n\u001b[0;32m   1656\u001b[0m     ))\n\u001b[0;32m   1657\u001b[0m \u001b[38;5;28;01mreturn\u001b[39;00m [\u001b[38;5;28mself\u001b[39m\u001b[38;5;241m.\u001b[39mdeserialize_data(a, iter_type) \u001b[38;5;28;01mfor\u001b[39;00m a \u001b[38;5;129;01min\u001b[39;00m attr]\n",
      "\u001b[1;31mDeserializationError\u001b[0m: ('Unable to deserialize response data. Data:      target                                            reviews\\n0       neg  plot : two teen couples go to a church party ,...\\n1       neg  the happy bastard\\'s quick movie review \\\\ndamn ...\\n2       neg  it is movies like these that make a jaded movi...\\n3       neg   \" quest for camelot \" is warner bros . \\' firs...\\n4       neg  synopsis : a mentally unstable man undergoing ...\\n...     ...                                                ...\\n1995    pos  wow ! what a movie . \\\\nit\\'s everything a movie...\\n1996    pos  richard gere can be a commanding actor , but h...\\n1997    pos  glory--starring matthew broderick , denzel was...\\n1998    pos  steven spielberg\\'s second epic film on world w...\\n1999    pos  truman ( \" true-man \" ) burbank is the perfect...\\n\\n[2000 rows x 2 columns], [LanguageInput], DeserializationError: Cannot deserialize as [LanguageInput] an object of type <class \\'pandas.core.frame.DataFrame\\'>', DeserializationError(\"Cannot deserialize as [LanguageInput] an object of type <class 'pandas.core.frame.DataFrame'>\"))",
      "\nDuring handling of the above exception, another exception occurred:\n",
      "\u001b[1;31mSerializationError\u001b[0m                        Traceback (most recent call last)",
      "Input \u001b[1;32mIn [5]\u001b[0m, in \u001b[0;36m<cell line: 6>\u001b[1;34m()\u001b[0m\n\u001b[0;32m      2\u001b[0m text_analytics_client \u001b[38;5;241m=\u001b[39m TextAnalyticsClient(endpoint\u001b[38;5;241m=\u001b[39mcog_endpoint,\n\u001b[0;32m      3\u001b[0m                                             credentials\u001b[38;5;241m=\u001b[39mCognitiveServicesCredentials(cog_key))\n\u001b[0;32m      5\u001b[0m \u001b[38;5;66;03m# Analyze the reviews you read from the /data/reviews folder earlier\u001b[39;00m\n\u001b[1;32m----> 6\u001b[0m language_analysis \u001b[38;5;241m=\u001b[39m \u001b[43mtext_analytics_client\u001b[49m\u001b[38;5;241;43m.\u001b[39;49m\u001b[43mdetect_language\u001b[49m\u001b[43m(\u001b[49m\u001b[43mdocuments\u001b[49m\u001b[38;5;241;43m=\u001b[39;49m\u001b[43mdata\u001b[49m\u001b[43m)\u001b[49m\n\u001b[0;32m      8\u001b[0m \u001b[38;5;66;03m# print detected language details for each review\u001b[39;00m\n\u001b[0;32m      9\u001b[0m \u001b[38;5;28;01mfor\u001b[39;00m review_num \u001b[38;5;129;01min\u001b[39;00m \u001b[38;5;28mrange\u001b[39m(\u001b[38;5;28mlen\u001b[39m(reviews)):\n\u001b[0;32m     10\u001b[0m     \u001b[38;5;66;03m# print the review id\u001b[39;00m\n",
      "File \u001b[1;32m~\\anaconda3\\lib\\site-packages\\azure\\cognitiveservices\\language\\textanalytics\\text_analytics_client.py:127\u001b[0m, in \u001b[0;36mTextAnalyticsClient.detect_language\u001b[1;34m(self, show_stats, documents, custom_headers, raw, **operation_config)\u001b[0m\n\u001b[0;32m    125\u001b[0m \u001b[38;5;66;03m# Construct body\u001b[39;00m\n\u001b[0;32m    126\u001b[0m \u001b[38;5;28;01mif\u001b[39;00m language_batch_input \u001b[38;5;129;01mis\u001b[39;00m \u001b[38;5;129;01mnot\u001b[39;00m \u001b[38;5;28;01mNone\u001b[39;00m:\n\u001b[1;32m--> 127\u001b[0m     body_content \u001b[38;5;241m=\u001b[39m \u001b[38;5;28;43mself\u001b[39;49m\u001b[38;5;241;43m.\u001b[39;49m\u001b[43m_serialize\u001b[49m\u001b[38;5;241;43m.\u001b[39;49m\u001b[43mbody\u001b[49m\u001b[43m(\u001b[49m\u001b[43mlanguage_batch_input\u001b[49m\u001b[43m,\u001b[49m\u001b[43m \u001b[49m\u001b[38;5;124;43m'\u001b[39;49m\u001b[38;5;124;43mLanguageBatchInput\u001b[39;49m\u001b[38;5;124;43m'\u001b[39;49m\u001b[43m)\u001b[49m\n\u001b[0;32m    128\u001b[0m \u001b[38;5;28;01melse\u001b[39;00m:\n\u001b[0;32m    129\u001b[0m     body_content \u001b[38;5;241m=\u001b[39m \u001b[38;5;28;01mNone\u001b[39;00m\n",
      "File \u001b[1;32m~\\anaconda3\\lib\\site-packages\\msrest\\serialization.py:624\u001b[0m, in \u001b[0;36mSerializer.body\u001b[1;34m(self, data, data_type, **kwargs)\u001b[0m\n\u001b[0;32m    622\u001b[0m         data \u001b[38;5;241m=\u001b[39m deserializer\u001b[38;5;241m.\u001b[39m_deserialize(data_type, data)\n\u001b[0;32m    623\u001b[0m     \u001b[38;5;28;01mexcept\u001b[39;00m DeserializationError \u001b[38;5;28;01mas\u001b[39;00m err:\n\u001b[1;32m--> 624\u001b[0m         \u001b[43mraise_with_traceback\u001b[49m\u001b[43m(\u001b[49m\n\u001b[0;32m    625\u001b[0m \u001b[43m            \u001b[49m\u001b[43mSerializationError\u001b[49m\u001b[43m,\u001b[49m\u001b[43m \u001b[49m\u001b[38;5;124;43m\"\u001b[39;49m\u001b[38;5;124;43mUnable to build a model: \u001b[39;49m\u001b[38;5;124;43m\"\u001b[39;49m\u001b[38;5;241;43m+\u001b[39;49m\u001b[38;5;28;43mstr\u001b[39;49m\u001b[43m(\u001b[49m\u001b[43merr\u001b[49m\u001b[43m)\u001b[49m\u001b[43m,\u001b[49m\u001b[43m \u001b[49m\u001b[43merr\u001b[49m\u001b[43m)\u001b[49m\n\u001b[0;32m    627\u001b[0m \u001b[38;5;28;01mif\u001b[39;00m \u001b[38;5;28mself\u001b[39m\u001b[38;5;241m.\u001b[39mclient_side_validation:\n\u001b[0;32m    628\u001b[0m     errors \u001b[38;5;241m=\u001b[39m _recursive_validate(data_type, data_type, data)\n",
      "File \u001b[1;32m~\\anaconda3\\lib\\site-packages\\msrest\\exceptions.py:51\u001b[0m, in \u001b[0;36mraise_with_traceback\u001b[1;34m(exception, message, *args, **kwargs)\u001b[0m\n\u001b[0;32m     49\u001b[0m error \u001b[38;5;241m=\u001b[39m exception(exc_msg, \u001b[38;5;241m*\u001b[39margs, \u001b[38;5;241m*\u001b[39m\u001b[38;5;241m*\u001b[39mkwargs)\n\u001b[0;32m     50\u001b[0m \u001b[38;5;28;01mtry\u001b[39;00m:\n\u001b[1;32m---> 51\u001b[0m     \u001b[38;5;28;01mraise\u001b[39;00m error\u001b[38;5;241m.\u001b[39mwith_traceback(exc_traceback)\n\u001b[0;32m     52\u001b[0m \u001b[38;5;28;01mexcept\u001b[39;00m \u001b[38;5;167;01mAttributeError\u001b[39;00m:\n\u001b[0;32m     53\u001b[0m     error\u001b[38;5;241m.\u001b[39m__traceback__ \u001b[38;5;241m=\u001b[39m exc_traceback\n",
      "File \u001b[1;32m~\\anaconda3\\lib\\site-packages\\msrest\\serialization.py:622\u001b[0m, in \u001b[0;36mSerializer.body\u001b[1;34m(self, data, data_type, **kwargs)\u001b[0m\n\u001b[0;32m    616\u001b[0m     \u001b[38;5;28;01melse\u001b[39;00m:\n\u001b[0;32m    617\u001b[0m         deserializer\u001b[38;5;241m.\u001b[39mkey_extractors \u001b[38;5;241m=\u001b[39m [\n\u001b[0;32m    618\u001b[0m             rest_key_case_insensitive_extractor,\n\u001b[0;32m    619\u001b[0m             attribute_key_case_insensitive_extractor,\n\u001b[0;32m    620\u001b[0m             last_rest_key_case_insensitive_extractor\n\u001b[0;32m    621\u001b[0m         ]\n\u001b[1;32m--> 622\u001b[0m     data \u001b[38;5;241m=\u001b[39m \u001b[43mdeserializer\u001b[49m\u001b[38;5;241;43m.\u001b[39;49m\u001b[43m_deserialize\u001b[49m\u001b[43m(\u001b[49m\u001b[43mdata_type\u001b[49m\u001b[43m,\u001b[49m\u001b[43m \u001b[49m\u001b[43mdata\u001b[49m\u001b[43m)\u001b[49m\n\u001b[0;32m    623\u001b[0m \u001b[38;5;28;01mexcept\u001b[39;00m DeserializationError \u001b[38;5;28;01mas\u001b[39;00m err:\n\u001b[0;32m    624\u001b[0m     raise_with_traceback(\n\u001b[0;32m    625\u001b[0m         SerializationError, \u001b[38;5;124m\"\u001b[39m\u001b[38;5;124mUnable to build a model: \u001b[39m\u001b[38;5;124m\"\u001b[39m\u001b[38;5;241m+\u001b[39m\u001b[38;5;28mstr\u001b[39m(err), err)\n",
      "File \u001b[1;32m~\\anaconda3\\lib\\site-packages\\msrest\\serialization.py:1406\u001b[0m, in \u001b[0;36mDeserializer._deserialize\u001b[1;34m(self, target_obj, data)\u001b[0m\n\u001b[0;32m   1401\u001b[0m         \u001b[38;5;28;01mif\u001b[39;00m internal_data_type \u001b[38;5;129;01mnot\u001b[39;00m \u001b[38;5;129;01min\u001b[39;00m \u001b[38;5;28mself\u001b[39m\u001b[38;5;241m.\u001b[39mdependencies \u001b[38;5;129;01mor\u001b[39;00m \u001b[38;5;28misinstance\u001b[39m(internal_data_type, Enum):\n\u001b[0;32m   1402\u001b[0m             \u001b[38;5;28;01mcontinue\u001b[39;00m\n\u001b[0;32m   1403\u001b[0m         \u001b[38;5;28msetattr\u001b[39m(\n\u001b[0;32m   1404\u001b[0m             data,\n\u001b[0;32m   1405\u001b[0m             attr,\n\u001b[1;32m-> 1406\u001b[0m             \u001b[38;5;28;43mself\u001b[39;49m\u001b[38;5;241;43m.\u001b[39;49m\u001b[43m_deserialize\u001b[49m\u001b[43m(\u001b[49m\u001b[43mlocal_type\u001b[49m\u001b[43m,\u001b[49m\u001b[43m \u001b[49m\u001b[43mvalue\u001b[49m\u001b[43m)\u001b[49m\n\u001b[0;32m   1407\u001b[0m         )\n\u001b[0;32m   1408\u001b[0m     \u001b[38;5;28;01mreturn\u001b[39;00m data\n\u001b[0;32m   1409\u001b[0m \u001b[38;5;28;01mexcept\u001b[39;00m \u001b[38;5;167;01mAttributeError\u001b[39;00m:\n",
      "File \u001b[1;32m~\\anaconda3\\lib\\site-packages\\msrest\\serialization.py:1415\u001b[0m, in \u001b[0;36mDeserializer._deserialize\u001b[1;34m(self, target_obj, data)\u001b[0m\n\u001b[0;32m   1412\u001b[0m response, class_name \u001b[38;5;241m=\u001b[39m \u001b[38;5;28mself\u001b[39m\u001b[38;5;241m.\u001b[39m_classify_target(target_obj, data)\n\u001b[0;32m   1414\u001b[0m \u001b[38;5;28;01mif\u001b[39;00m \u001b[38;5;28misinstance\u001b[39m(response, basestring):\n\u001b[1;32m-> 1415\u001b[0m     \u001b[38;5;28;01mreturn\u001b[39;00m \u001b[38;5;28;43mself\u001b[39;49m\u001b[38;5;241;43m.\u001b[39;49m\u001b[43mdeserialize_data\u001b[49m\u001b[43m(\u001b[49m\u001b[43mdata\u001b[49m\u001b[43m,\u001b[49m\u001b[43m \u001b[49m\u001b[43mresponse\u001b[49m\u001b[43m)\u001b[49m\n\u001b[0;32m   1416\u001b[0m \u001b[38;5;28;01melif\u001b[39;00m \u001b[38;5;28misinstance\u001b[39m(response, \u001b[38;5;28mtype\u001b[39m) \u001b[38;5;129;01mand\u001b[39;00m \u001b[38;5;28missubclass\u001b[39m(response, Enum):\n\u001b[0;32m   1417\u001b[0m     \u001b[38;5;28;01mreturn\u001b[39;00m \u001b[38;5;28mself\u001b[39m\u001b[38;5;241m.\u001b[39mdeserialize_enum(data, response)\n",
      "File \u001b[1;32m~\\anaconda3\\lib\\site-packages\\msrest\\serialization.py:1637\u001b[0m, in \u001b[0;36mDeserializer.deserialize_data\u001b[1;34m(self, data, data_type)\u001b[0m\n\u001b[0;32m   1635\u001b[0m     msg \u001b[38;5;241m=\u001b[39m \u001b[38;5;124m\"\u001b[39m\u001b[38;5;124mUnable to deserialize response data.\u001b[39m\u001b[38;5;124m\"\u001b[39m\n\u001b[0;32m   1636\u001b[0m     msg \u001b[38;5;241m+\u001b[39m\u001b[38;5;241m=\u001b[39m \u001b[38;5;124m\"\u001b[39m\u001b[38;5;124m Data: \u001b[39m\u001b[38;5;132;01m{}\u001b[39;00m\u001b[38;5;124m, \u001b[39m\u001b[38;5;132;01m{}\u001b[39;00m\u001b[38;5;124m\"\u001b[39m\u001b[38;5;241m.\u001b[39mformat(data, data_type)\n\u001b[1;32m-> 1637\u001b[0m     \u001b[43mraise_with_traceback\u001b[49m\u001b[43m(\u001b[49m\u001b[43mDeserializationError\u001b[49m\u001b[43m,\u001b[49m\u001b[43m \u001b[49m\u001b[43mmsg\u001b[49m\u001b[43m,\u001b[49m\u001b[43m \u001b[49m\u001b[43merr\u001b[49m\u001b[43m)\u001b[49m\n\u001b[0;32m   1638\u001b[0m \u001b[38;5;28;01melse\u001b[39;00m:\n\u001b[0;32m   1639\u001b[0m     \u001b[38;5;28;01mreturn\u001b[39;00m \u001b[38;5;28mself\u001b[39m\u001b[38;5;241m.\u001b[39m_deserialize(obj_type, data)\n",
      "File \u001b[1;32m~\\anaconda3\\lib\\site-packages\\msrest\\exceptions.py:51\u001b[0m, in \u001b[0;36mraise_with_traceback\u001b[1;34m(exception, message, *args, **kwargs)\u001b[0m\n\u001b[0;32m     49\u001b[0m error \u001b[38;5;241m=\u001b[39m exception(exc_msg, \u001b[38;5;241m*\u001b[39margs, \u001b[38;5;241m*\u001b[39m\u001b[38;5;241m*\u001b[39mkwargs)\n\u001b[0;32m     50\u001b[0m \u001b[38;5;28;01mtry\u001b[39;00m:\n\u001b[1;32m---> 51\u001b[0m     \u001b[38;5;28;01mraise\u001b[39;00m error\u001b[38;5;241m.\u001b[39mwith_traceback(exc_traceback)\n\u001b[0;32m     52\u001b[0m \u001b[38;5;28;01mexcept\u001b[39;00m \u001b[38;5;167;01mAttributeError\u001b[39;00m:\n\u001b[0;32m     53\u001b[0m     error\u001b[38;5;241m.\u001b[39m__traceback__ \u001b[38;5;241m=\u001b[39m exc_traceback\n",
      "File \u001b[1;32m~\\anaconda3\\lib\\site-packages\\msrest\\serialization.py:1626\u001b[0m, in \u001b[0;36mDeserializer.deserialize_data\u001b[1;34m(self, data, data_type)\u001b[0m\n\u001b[0;32m   1624\u001b[0m iter_type \u001b[38;5;241m=\u001b[39m data_type[\u001b[38;5;241m0\u001b[39m] \u001b[38;5;241m+\u001b[39m data_type[\u001b[38;5;241m-\u001b[39m\u001b[38;5;241m1\u001b[39m]\n\u001b[0;32m   1625\u001b[0m \u001b[38;5;28;01mif\u001b[39;00m iter_type \u001b[38;5;129;01min\u001b[39;00m \u001b[38;5;28mself\u001b[39m\u001b[38;5;241m.\u001b[39mdeserialize_type:\n\u001b[1;32m-> 1626\u001b[0m     \u001b[38;5;28;01mreturn\u001b[39;00m \u001b[38;5;28;43mself\u001b[39;49m\u001b[38;5;241;43m.\u001b[39;49m\u001b[43mdeserialize_type\u001b[49m\u001b[43m[\u001b[49m\u001b[43miter_type\u001b[49m\u001b[43m]\u001b[49m\u001b[43m(\u001b[49m\u001b[43mdata\u001b[49m\u001b[43m,\u001b[49m\u001b[43m \u001b[49m\u001b[43mdata_type\u001b[49m\u001b[43m[\u001b[49m\u001b[38;5;241;43m1\u001b[39;49m\u001b[43m:\u001b[49m\u001b[38;5;241;43m-\u001b[39;49m\u001b[38;5;241;43m1\u001b[39;49m\u001b[43m]\u001b[49m\u001b[43m)\u001b[49m\n\u001b[0;32m   1628\u001b[0m obj_type \u001b[38;5;241m=\u001b[39m \u001b[38;5;28mself\u001b[39m\u001b[38;5;241m.\u001b[39mdependencies[data_type]\n\u001b[0;32m   1629\u001b[0m \u001b[38;5;28;01mif\u001b[39;00m \u001b[38;5;28missubclass\u001b[39m(obj_type, Enum):\n",
      "File \u001b[1;32m~\\anaconda3\\lib\\site-packages\\msrest\\serialization.py:1653\u001b[0m, in \u001b[0;36mDeserializer.deserialize_iter\u001b[1;34m(self, attr, iter_type)\u001b[0m\n\u001b[0;32m   1651\u001b[0m     attr \u001b[38;5;241m=\u001b[39m \u001b[38;5;28mlist\u001b[39m(attr)\n\u001b[0;32m   1652\u001b[0m \u001b[38;5;28;01mif\u001b[39;00m \u001b[38;5;129;01mnot\u001b[39;00m \u001b[38;5;28misinstance\u001b[39m(attr, (\u001b[38;5;28mlist\u001b[39m, \u001b[38;5;28mset\u001b[39m)):\n\u001b[1;32m-> 1653\u001b[0m     \u001b[38;5;28;01mraise\u001b[39;00m DeserializationError(\u001b[38;5;124m\"\u001b[39m\u001b[38;5;124mCannot deserialize as [\u001b[39m\u001b[38;5;132;01m{}\u001b[39;00m\u001b[38;5;124m] an object of type \u001b[39m\u001b[38;5;132;01m{}\u001b[39;00m\u001b[38;5;124m\"\u001b[39m\u001b[38;5;241m.\u001b[39mformat(\n\u001b[0;32m   1654\u001b[0m         iter_type,\n\u001b[0;32m   1655\u001b[0m         \u001b[38;5;28mtype\u001b[39m(attr)\n\u001b[0;32m   1656\u001b[0m     ))\n\u001b[0;32m   1657\u001b[0m \u001b[38;5;28;01mreturn\u001b[39;00m [\u001b[38;5;28mself\u001b[39m\u001b[38;5;241m.\u001b[39mdeserialize_data(a, iter_type) \u001b[38;5;28;01mfor\u001b[39;00m a \u001b[38;5;129;01min\u001b[39;00m attr]\n",
      "\u001b[1;31mSerializationError\u001b[0m: ('Unable to build a model: (\\'Unable to deserialize response data. Data:      target                                            reviews\\\\n0       neg  plot : two teen couples go to a church party ,...\\\\n1       neg  the happy bastard\\\\\\'s quick movie review \\\\\\\\ndamn ...\\\\n2       neg  it is movies like these that make a jaded movi...\\\\n3       neg   \" quest for camelot \" is warner bros . \\\\\\' firs...\\\\n4       neg  synopsis : a mentally unstable man undergoing ...\\\\n...     ...                                                ...\\\\n1995    pos  wow ! what a movie . \\\\\\\\nit\\\\\\'s everything a movie...\\\\n1996    pos  richard gere can be a commanding actor , but h...\\\\n1997    pos  glory--starring matthew broderick , denzel was...\\\\n1998    pos  steven spielberg\\\\\\'s second epic film on world w...\\\\n1999    pos  truman ( \" true-man \" ) burbank is the perfect...\\\\n\\\\n[2000 rows x 2 columns], [LanguageInput], DeserializationError: Cannot deserialize as [LanguageInput] an object of type <class \\\\\\'pandas.core.frame.DataFrame\\\\\\'>\\', DeserializationError(\"Cannot deserialize as [LanguageInput] an object of type <class \\'pandas.core.frame.DataFrame\\'>\")), DeserializationError: (\\'Unable to deserialize response data. Data:      target                                            reviews\\\\n0       neg  plot : two teen couples go to a church party ,...\\\\n1       neg  the happy bastard\\\\\\'s quick movie review \\\\\\\\ndamn ...\\\\n2       neg  it is movies like these that make a jaded movi...\\\\n3       neg   \" quest for camelot \" is warner bros . \\\\\\' firs...\\\\n4       neg  synopsis : a mentally unstable man undergoing ...\\\\n...     ...                                                ...\\\\n1995    pos  wow ! what a movie . \\\\\\\\nit\\\\\\'s everything a movie...\\\\n1996    pos  richard gere can be a commanding actor , but h...\\\\n1997    pos  glory--starring matthew broderick , denzel was...\\\\n1998    pos  steven spielberg\\\\\\'s second epic film on world w...\\\\n1999    pos  truman ( \" true-man \" ) burbank is the perfect...\\\\n\\\\n[2000 rows x 2 columns], [LanguageInput], DeserializationError: Cannot deserialize as [LanguageInput] an object of type <class \\\\\\'pandas.core.frame.DataFrame\\\\\\'>\\', DeserializationError(\"Cannot deserialize as [LanguageInput] an object of type <class \\'pandas.core.frame.DataFrame\\'>\"))', DeserializationError('Unable to deserialize response data. Data:      target                                            reviews\\n0       neg  plot : two teen couples go to a church party ,...\\n1       neg  the happy bastard\\'s quick movie review \\\\ndamn ...\\n2       neg  it is movies like these that make a jaded movi...\\n3       neg   \" quest for camelot \" is warner bros . \\' firs...\\n4       neg  synopsis : a mentally unstable man undergoing ...\\n...     ...                                                ...\\n1995    pos  wow ! what a movie . \\\\nit\\'s everything a movie...\\n1996    pos  richard gere can be a commanding actor , but h...\\n1997    pos  glory--starring matthew broderick , denzel was...\\n1998    pos  steven spielberg\\'s second epic film on world w...\\n1999    pos  truman ( \" true-man \" ) burbank is the perfect...\\n\\n[2000 rows x 2 columns], [LanguageInput], DeserializationError: Cannot deserialize as [LanguageInput] an object of type <class \\'pandas.core.frame.DataFrame\\'>', DeserializationError(\"Cannot deserialize as [LanguageInput] an object of type <class 'pandas.core.frame.DataFrame'>\")))"
     ]
    }
   ],
   "source": [
    "# Get a client for your text analytics cognitive service resource\n",
    "text_analytics_client = TextAnalyticsClient(endpoint=cog_endpoint,\n",
    "                                            credentials=CognitiveServicesCredentials(cog_key))\n",
    "\n",
    "# Analyze the reviews you read from the /data/reviews folder earlier\n",
    "language_analysis = text_analytics_client.detect_language(documents=data)\n",
    "\n",
    "# print detected language details for each review\n",
    "for review_num in range(len(reviews)):\n",
    "    # print the review id\n",
    "    print(reviews[review_num]['id'])\n",
    "\n",
    "    # Get the language details for this review\n",
    "    lang = language_analysis.documents[review_num].detected_languages[0]\n",
    "    print(' - Language: {}\\n - Code: {}\\n - Score: {}\\n'.format(lang.name, lang.iso6391_name, lang.score))\n",
    "\n",
    "    # Add the detected language code to the collection of reviews (so we can do further analysis)\n",
    "    reviews[review_num][\"language\"] = lang.iso6391_name"
   ]
  },
  {
   "cell_type": "code",
   "execution_count": null,
   "id": "da8cd271",
   "metadata": {},
   "outputs": [],
   "source": []
  }
 ],
 "metadata": {
  "kernelspec": {
   "display_name": "Python 3 (ipykernel)",
   "language": "python",
   "name": "python3"
  },
  "language_info": {
   "codemirror_mode": {
    "name": "ipython",
    "version": 3
   },
   "file_extension": ".py",
   "mimetype": "text/x-python",
   "name": "python",
   "nbconvert_exporter": "python",
   "pygments_lexer": "ipython3",
   "version": "3.9.12"
  }
 },
 "nbformat": 4,
 "nbformat_minor": 5
}
