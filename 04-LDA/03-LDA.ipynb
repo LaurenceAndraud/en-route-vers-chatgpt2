{
 "cells": [
  {
   "cell_type": "markdown",
   "metadata": {},
   "source": [
    "# Latent Dirichlet Allocation"
   ]
  },
  {
   "cell_type": "code",
   "execution_count": 6,
   "metadata": {},
   "outputs": [
    {
     "data": {
      "text/html": [
       "<div>\n",
       "<style scoped>\n",
       "    .dataframe tbody tr th:only-of-type {\n",
       "        vertical-align: middle;\n",
       "    }\n",
       "\n",
       "    .dataframe tbody tr th {\n",
       "        vertical-align: top;\n",
       "    }\n",
       "\n",
       "    .dataframe thead th {\n",
       "        text-align: right;\n",
       "    }\n",
       "</style>\n",
       "<table border=\"1\" class=\"dataframe\">\n",
       "  <thead>\n",
       "    <tr style=\"text-align: right;\">\n",
       "      <th></th>\n",
       "      <th>text</th>\n",
       "    </tr>\n",
       "  </thead>\n",
       "  <tbody>\n",
       "    <tr>\n",
       "      <th>0</th>\n",
       "      <td>From: gld@cunixb.cc.columbia.edu (Gary L Dare)...</td>\n",
       "    </tr>\n",
       "    <tr>\n",
       "      <th>1</th>\n",
       "      <td>From: atterlep@vela.acs.oakland.edu (Cardinal ...</td>\n",
       "    </tr>\n",
       "    <tr>\n",
       "      <th>2</th>\n",
       "      <td>From: miner@kuhub.cc.ukans.edu\\nSubject: Re: A...</td>\n",
       "    </tr>\n",
       "    <tr>\n",
       "      <th>3</th>\n",
       "      <td>From: atterlep@vela.acs.oakland.edu (Cardinal ...</td>\n",
       "    </tr>\n",
       "    <tr>\n",
       "      <th>4</th>\n",
       "      <td>From: vzhivov@superior.carleton.ca (Vladimir Z...</td>\n",
       "    </tr>\n",
       "  </tbody>\n",
       "</table>\n",
       "</div>"
      ],
      "text/plain": [
       "                                                text\n",
       "0  From: gld@cunixb.cc.columbia.edu (Gary L Dare)...\n",
       "1  From: atterlep@vela.acs.oakland.edu (Cardinal ...\n",
       "2  From: miner@kuhub.cc.ukans.edu\\nSubject: Re: A...\n",
       "3  From: atterlep@vela.acs.oakland.edu (Cardinal ...\n",
       "4  From: vzhivov@superior.carleton.ca (Vladimir Z..."
      ]
     },
     "execution_count": 6,
     "metadata": {},
     "output_type": "execute_result"
    }
   ],
   "source": [
    "import pandas as pd\n",
    "\n",
    "data = pd.read_csv('data', sep=\",\", header=None)\n",
    "\n",
    "data.columns = ['text']\n",
    "\n",
    "data.head()"
   ]
  },
  {
   "cell_type": "markdown",
   "metadata": {},
   "source": [
    "The data is a collection of emails that are not labelled. Let's try extract topics from them!"
   ]
  },
  {
   "cell_type": "markdown",
   "metadata": {},
   "source": [
    "## Preprocessing "
   ]
  },
  {
   "cell_type": "markdown",
   "metadata": {},
   "source": [
    "👇 You're used to it by now... Clean up! Store the cleaned text in a new dataframe column \"clean_text\"."
   ]
  },
  {
   "cell_type": "code",
   "execution_count": 44,
   "metadata": {},
   "outputs": [
    {
     "data": {
      "text/html": [
       "<div>\n",
       "<style scoped>\n",
       "    .dataframe tbody tr th:only-of-type {\n",
       "        vertical-align: middle;\n",
       "    }\n",
       "\n",
       "    .dataframe tbody tr th {\n",
       "        vertical-align: top;\n",
       "    }\n",
       "\n",
       "    .dataframe thead th {\n",
       "        text-align: right;\n",
       "    }\n",
       "</style>\n",
       "<table border=\"1\" class=\"dataframe\">\n",
       "  <thead>\n",
       "    <tr style=\"text-align: right;\">\n",
       "      <th></th>\n",
       "      <th>text</th>\n",
       "      <th>clean_text</th>\n",
       "    </tr>\n",
       "  </thead>\n",
       "  <tbody>\n",
       "    <tr>\n",
       "      <th>0</th>\n",
       "      <td>from gldcunixbcccolumbiaedu gary l dare\\nsubje...</td>\n",
       "      <td>from gldcunixbcccolumbiaedu gary l dare\\nsubje...</td>\n",
       "    </tr>\n",
       "    <tr>\n",
       "      <th>1</th>\n",
       "      <td>from atterlepvelaacsoaklandedu cardinal ximene...</td>\n",
       "      <td>from atterlepvelaacsoaklandedu cardinal ximene...</td>\n",
       "    </tr>\n",
       "    <tr>\n",
       "      <th>2</th>\n",
       "      <td>from minerkuhubccukansedu\\nsubject re ancient ...</td>\n",
       "      <td>from minerkuhubccukansedu\\nsubject re ancient ...</td>\n",
       "    </tr>\n",
       "    <tr>\n",
       "      <th>3</th>\n",
       "      <td>from atterlepvelaacsoaklandedu cardinal ximene...</td>\n",
       "      <td>from atterlepvelaacsoaklandedu cardinal ximene...</td>\n",
       "    </tr>\n",
       "    <tr>\n",
       "      <th>4</th>\n",
       "      <td>from vzhivovsuperiorcarletonca vladimir zhivov...</td>\n",
       "      <td>from vzhivovsuperiorcarletonca vladimir zhivov...</td>\n",
       "    </tr>\n",
       "    <tr>\n",
       "      <th>...</th>\n",
       "      <td>...</td>\n",
       "      <td>...</td>\n",
       "    </tr>\n",
       "    <tr>\n",
       "      <th>1194</th>\n",
       "      <td>from jerrybeskimocom jerry kaufman\\nsubject re...</td>\n",
       "      <td>from jerrybeskimocom jerry kaufman\\nsubject re...</td>\n",
       "    </tr>\n",
       "    <tr>\n",
       "      <th>1195</th>\n",
       "      <td>from golchowyalchemychemutorontoca gerald olch...</td>\n",
       "      <td>from golchowyalchemychemutorontoca gerald olch...</td>\n",
       "    </tr>\n",
       "    <tr>\n",
       "      <th>1196</th>\n",
       "      <td>from jaynemmaltguildorg jayne kulikauskas\\nsub...</td>\n",
       "      <td>from jaynemmaltguildorg jayne kulikauskas\\nsub...</td>\n",
       "    </tr>\n",
       "    <tr>\n",
       "      <th>1197</th>\n",
       "      <td>from sclarkepasutorontoca susan clark\\nsubject...</td>\n",
       "      <td>from sclarkepasutorontoca susan clark\\nsubject...</td>\n",
       "    </tr>\n",
       "    <tr>\n",
       "      <th>1198</th>\n",
       "      <td>from lmvecwestminsteracuk william hargreaves\\n...</td>\n",
       "      <td>from lmvecwestminsteracuk william hargreaves\\n...</td>\n",
       "    </tr>\n",
       "  </tbody>\n",
       "</table>\n",
       "<p>1199 rows × 2 columns</p>\n",
       "</div>"
      ],
      "text/plain": [
       "                                                   text  \\\n",
       "0     from gldcunixbcccolumbiaedu gary l dare\\nsubje...   \n",
       "1     from atterlepvelaacsoaklandedu cardinal ximene...   \n",
       "2     from minerkuhubccukansedu\\nsubject re ancient ...   \n",
       "3     from atterlepvelaacsoaklandedu cardinal ximene...   \n",
       "4     from vzhivovsuperiorcarletonca vladimir zhivov...   \n",
       "...                                                 ...   \n",
       "1194  from jerrybeskimocom jerry kaufman\\nsubject re...   \n",
       "1195  from golchowyalchemychemutorontoca gerald olch...   \n",
       "1196  from jaynemmaltguildorg jayne kulikauskas\\nsub...   \n",
       "1197  from sclarkepasutorontoca susan clark\\nsubject...   \n",
       "1198  from lmvecwestminsteracuk william hargreaves\\n...   \n",
       "\n",
       "                                             clean_text  \n",
       "0     from gldcunixbcccolumbiaedu gary l dare\\nsubje...  \n",
       "1     from atterlepvelaacsoaklandedu cardinal ximene...  \n",
       "2     from minerkuhubccukansedu\\nsubject re ancient ...  \n",
       "3     from atterlepvelaacsoaklandedu cardinal ximene...  \n",
       "4     from vzhivovsuperiorcarletonca vladimir zhivov...  \n",
       "...                                                 ...  \n",
       "1194  from jerrybeskimocom jerry kaufman\\nsubject re...  \n",
       "1195  from golchowyalchemychemutorontoca gerald olch...  \n",
       "1196  from jaynemmaltguildorg jayne kulikauskas\\nsub...  \n",
       "1197  from sclarkepasutorontoca susan clark\\nsubject...  \n",
       "1198  from lmvecwestminsteracuk william hargreaves\\n...  \n",
       "\n",
       "[1199 rows x 2 columns]"
      ]
     },
     "execution_count": 44,
     "metadata": {},
     "output_type": "execute_result"
    }
   ],
   "source": [
    "#nettoyer aussi les nombres\n",
    "\n",
    "import string\n",
    "\n",
    "text = ''.join([i for i in text if not i.isdigit()])\n",
    "\n",
    "def clean_up(text):\n",
    "\n",
    "    for punctuation in string.punctuation:\n",
    "        text = text.replace(punctuation, '')\n",
    "        text = text.lower()\n",
    "        return text\n",
    "\n",
    "data['clean_text'] = data['text'].apply(clean_up)\n",
    "data"
   ]
  },
  {
   "cell_type": "code",
   "execution_count": null,
   "metadata": {},
   "outputs": [],
   "source": []
  },
  {
   "cell_type": "markdown",
   "metadata": {},
   "source": [
    "## Latent Dirichlet Allocation model"
   ]
  },
  {
   "cell_type": "markdown",
   "metadata": {},
   "source": [
    "👇 Train an LDA model to extract potential topics."
   ]
  },
  {
   "cell_type": "code",
   "execution_count": 45,
   "metadata": {},
   "outputs": [
    {
     "name": "stdout",
     "output_type": "stream",
     "text": [
      "Topic 0:\n",
      "[('the', 110.19206651465497), ('of', 67.68737522345293), ('to', 66.69173133209398), ('that', 53.08754610138504), ('is', 51.9770069238538), ('and', 48.47899302371806), ('in', 42.84053923891562), ('you', 31.8044800345981), ('it', 31.484100620336793), ('not', 29.980036957249908)]\n",
      "Topic 1:\n",
      "[('the', 81.01073489261918), ('in', 32.02664745833698), ('to', 30.039024028607926), ('and', 26.137994991051997), ('of', 25.377119131594892), ('for', 18.640882550678963), ('game', 17.70024917622676), ('team', 17.325445200695643), ('hockey', 16.56641489476912), ('on', 16.40325972643322)]\n"
     ]
    }
   ],
   "source": [
    "from sklearn.feature_extraction.text import CountVectorizer\n",
    "from sklearn.decomposition import LatentDirichletAllocation\n",
    "from sklearn.feature_extraction.text import TfidfVectorizer\n",
    "\n",
    "vectorizer = TfidfVectorizer().fit(data['text'])\n",
    "\n",
    "data_vectorized = vectorizer.transform(data['text'])\n",
    "\n",
    "# Train the LDA model\n",
    "ldamodel = LatentDirichletAllocation(n_components=2).fit(data_vectorized)\n",
    "\n",
    "def print_topics(model, vectorizer):\n",
    "    for idx, topic in enumerate(model.components_):\n",
    "        print(\"Topic %d:\" % (idx))\n",
    "        print([(vectorizer.get_feature_names_out()[i], topic[i])\n",
    "                  for i in topic.argsort()[:-10 -1:-1]])\n",
    "\n",
    "print_topics(ldamodel, vectorizer)"
   ]
  },
  {
   "cell_type": "markdown",
   "metadata": {},
   "source": [
    "## Visualize potential topics"
   ]
  },
  {
   "cell_type": "markdown",
   "metadata": {},
   "source": [
    "👇 The function to print the words associated with the potential topics is already made for you. You just have to pass the correct arguments!"
   ]
  },
  {
   "cell_type": "code",
   "execution_count": null,
   "metadata": {},
   "outputs": [],
   "source": []
  },
  {
   "cell_type": "markdown",
   "metadata": {},
   "source": [
    "## Predict topic of new text"
   ]
  },
  {
   "cell_type": "markdown",
   "metadata": {},
   "source": [
    "👇 You can now use your LDA model to predict the topic of a new text. First, use your vectorizer to vectorize the example. Then, use your LDA model to predict the topic of the vectorized example."
   ]
  },
  {
   "cell_type": "code",
   "execution_count": 46,
   "metadata": {},
   "outputs": [
    {
     "name": "stdout",
     "output_type": "stream",
     "text": [
      "topic 0 : 0.06273869854849222\n",
      "topic 1 : 0.9372613014515079\n"
     ]
    }
   ],
   "source": [
    "text = data['clean_text']\n",
    "\n",
    "text_vectorized = vectorizer.transform(text)\n",
    "\n",
    "lda_vectors = ldamodel.transform(text_vectorized)\n",
    "\n",
    "print(\"topic 0 :\", lda_vectors[0][0])\n",
    "print(\"topic 1 :\", lda_vectors[0][1])"
   ]
  },
  {
   "cell_type": "code",
   "execution_count": null,
   "metadata": {},
   "outputs": [],
   "source": []
  }
 ],
 "metadata": {
  "kernelspec": {
   "display_name": "Python 3 (ipykernel)",
   "language": "python",
   "name": "python3"
  },
  "language_info": {
   "codemirror_mode": {
    "name": "ipython",
    "version": 3
   },
   "file_extension": ".py",
   "mimetype": "text/x-python",
   "name": "python",
   "nbconvert_exporter": "python",
   "pygments_lexer": "ipython3",
   "version": "3.9.12"
  },
  "toc": {
   "base_numbering": 1,
   "nav_menu": {},
   "number_sections": false,
   "sideBar": true,
   "skip_h1_title": false,
   "title_cell": "Table of Contents",
   "title_sidebar": "Contents",
   "toc_cell": false,
   "toc_position": {},
   "toc_section_display": true,
   "toc_window_display": true
  }
 },
 "nbformat": 4,
 "nbformat_minor": 4
}
